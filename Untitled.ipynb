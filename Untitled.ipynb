{
 "cells": [
  {
   "cell_type": "markdown",
   "id": "9051e807-e859-415a-ae06-4d56f43546c8",
   "metadata": {},
   "source": [
    "# Tests for Linearity Tab"
   ]
  },
  {
   "cell_type": "code",
   "execution_count": 13,
   "id": "31719dc2-5690-41c0-a427-07efd4430533",
   "metadata": {},
   "outputs": [],
   "source": [
    "import pydicom\n",
    "from pylinac import FieldAnalysis"
   ]
  },
  {
   "cell_type": "code",
   "execution_count": 2,
   "id": "24aefed8-083b-44c2-8afa-9e5921839173",
   "metadata": {},
   "outputs": [],
   "source": [
    "file = \"RI_test.dcm\"\n",
    "ds = pydicom.dcmread(file)"
   ]
  },
  {
   "cell_type": "code",
   "execution_count": 5,
   "id": "9baf00be-2376-4c61-aef1-ecc35be232a7",
   "metadata": {},
   "outputs": [
    {
     "data": {
      "text/plain": [
       "Dataset.file_meta -------------------------------\n",
       "(0002, 0000) File Meta Information Group Length  UL: 182\n",
       "(0002, 0001) File Meta Information Version       OB: b'\\x00\\x01'\n",
       "(0002, 0002) Media Storage SOP Class UID         UI: RT Image Storage\n",
       "(0002, 0003) Media Storage SOP Instance UID      UI: 1.2.246.352.81.3.163227933.43057.19624.180.101\n",
       "(0002, 0010) Transfer Syntax UID                 UI: Implicit VR Little Endian\n",
       "(0002, 0012) Implementation Class UID            UI: 1.2.246.352.70.2.1.160.3\n",
       "(0002, 0013) Implementation Version Name         SH: 'DCIE 16.1'\n",
       "-------------------------------------------------\n",
       "(0008, 0005) Specific Character Set              CS: 'ISO_IR 192'\n",
       "(0008, 0008) Image Type                          CS: ['ORIGINAL', 'PRIMARY', 'PORTAL', 'ACQUIRED_DOSE']\n",
       "(0008, 0012) Instance Creation Date              DA: '20230731'\n",
       "(0008, 0013) Instance Creation Time              TM: '124317'\n",
       "(0008, 0016) SOP Class UID                       UI: RT Image Storage\n",
       "(0008, 0018) SOP Instance UID                    UI: 1.2.246.352.81.3.163227933.43057.19624.180.101\n",
       "(0008, 0020) Study Date                          DA: '20230713'\n",
       "(0008, 0021) Series Date                         DA: '20230731'\n",
       "(0008, 0022) Acquisition Date                    DA: '20230731'\n",
       "(0008, 0023) Content Date                        DA: '20230731'\n",
       "(0008, 0030) Study Time                          TM: '123946.28'\n",
       "(0008, 0031) Series Time                         TM: '122503.99'\n",
       "(0008, 0032) Acquisition Time                    TM: '121424'\n",
       "(0008, 0033) Content Time                        TM: '121424'\n",
       "(0008, 0050) Accession Number                    SH: ''\n",
       "(0008, 0060) Modality                            CS: 'RTIMAGE'\n",
       "(0008, 0064) Conversion Type                     CS: 'DI'\n",
       "(0008, 0070) Manufacturer                        LO: 'Varian Medical Systems'\n",
       "(0008, 0080) Institution Name                    LO: 'Centro Estatal de Oncologia Ruben Cardoza'\n",
       "(0008, 0090) Referring Physician's Name          PN: ''\n",
       "(0008, 1010) Station Name                        SH: 'D-2300CD'\n",
       "(0008, 1030) Study Description                   LO: 'Estudio RadOnc ARIA'\n",
       "(0008, 1070) Operators' Name                     PN: 'DICOM Service'\n",
       "(0008, 1090) Manufacturer's Model Name           LO: 'On-Board Imager'\n",
       "(0010, 0010) Patient's Name                      PN: 'QC^Portal'\n",
       "(0010, 0020) Patient ID                          LO: '71323'\n",
       "(0010, 0030) Patient's Birth Date                DA: ''\n",
       "(0010, 0040) Patient's Sex                       CS: ''\n",
       "(0018, 1000) Device Serial Number                LO: '6357'\n",
       "(0018, 1020) Software Versions                   LO: '1.6.19.0'\n",
       "(0018, 5100) Patient Position                    CS: 'HFS'\n",
       "(0020, 000d) Study Instance UID                  UI: 1.2.246.352.71.1.855512968882.8319.20230713124010\n",
       "(0020, 000e) Series Instance UID                 UI: 1.2.246.352.61.2.5636869562495287232.7722877975877570723\n",
       "(0020, 0010) Study ID                            SH: 'TG307'\n",
       "(0020, 0011) Series Number                       IS: '0'\n",
       "(0020, 0013) Instance Number                     IS: None\n",
       "(0020, 0020) Patient Orientation                 CS: ''\n",
       "(0020, 0052) Frame of Reference UID              UI: 1.2.246.352.61.8.5392954505927999436.10368520625812145855\n",
       "(0020, 1040) Position Reference Indicator        LO: ''\n",
       "(0028, 0002) Samples per Pixel                   US: 1\n",
       "(0028, 0004) Photometric Interpretation          CS: 'MONOCHROME2'\n",
       "(0028, 0010) Rows                                US: 768\n",
       "(0028, 0011) Columns                             US: 1024\n",
       "(0028, 0100) Bits Allocated                      US: 16\n",
       "(0028, 0101) Bits Stored                         US: 16\n",
       "(0028, 0102) High Bit                            US: 15\n",
       "(0028, 0103) Pixel Representation                US: 0\n",
       "(0028, 1050) Window Center                       DS: '51.940825398'\n",
       "(0028, 1051) Window Width                        DS: '103.819315572'\n",
       "(0028, 1052) Rescale Intercept                   DS: '255.325077504'\n",
       "(0028, 1053) Rescale Slope                       DS: '-0.015583806'\n",
       "(0028, 1054) Rescale Type                        LO: 'CU'\n",
       "(3002, 0002) RT Image Label                      SH: 'F 100UM-2_1_8'\n",
       "(3002, 0004) RT Image Description                ST: '6 MV, 600 MU/min \\r\\nScan Mode IDU20-Full-LoX-Integrated \\r\\nAveraged Frames 98 \\r\\nFrame Statistics 1, 98, 98, 0, 0, 0, 0, 0, 0, 0 \\r\\nDark Field Correction on\\r\\nFlood Field Correction on\\r\\nStatic Pixel Defects Correction on\\r\\nRandom Pixel Defects Correction off\\r\\n'\n",
       "(3002, 000a) Reported Values Origin              CS: 'ACTUAL'\n",
       "(3002, 000c) RT Image Plane                      CS: 'NORMAL'\n",
       "(3002, 000d) X-Ray Image Receptor Translation    DS: [-0.4026641170928, 1.75861501293805, 0]\n",
       "(3002, 000e) X-Ray Image Receptor Angle          DS: '0.0'\n",
       "(3002, 0010) RT Image Orientation                DS: [1, 0, 0, 0, -1, 0]\n",
       "(3002, 0011) Image Plane Pixel Spacing           DS: [0.392, 0.392]\n",
       "(3002, 0012) RT Image Position                   DS: [-200.508, 150.332]\n",
       "(3002, 0020) Radiation Machine Name              SH: 'D-2300CD'\n",
       "(3002, 0022) Radiation Machine SAD               DS: '1000.0'\n",
       "(3002, 0026) RT Image SID                        DS: '1000.0'\n",
       "(3002, 0029) Fraction Number                     IS: '1'\n",
       "(3002, 0030)  Exposure Sequence  1 item(s) ---- \n",
       "   (0008, 1160) Referenced Frame Number             IS: '1'\n",
       "   (0018, 0060) KVP                                 DS: '6000.0'\n",
       "   (3002, 0032) Meterset Exposure                   DS: '100.06'\n",
       "   (300a, 00b6)  Beam Limiting Device Sequence  2 item(s) ---- \n",
       "      (300a, 00b8) RT Beam Limiting Device Type        CS: 'X'\n",
       "      (300a, 00bc) Number of Leaf/Jaw Pairs            IS: '1'\n",
       "      (300a, 011c) Leaf/Jaw Positions                  DS: [-50, 50]\n",
       "      ---------\n",
       "      (300a, 00b8) RT Beam Limiting Device Type        CS: 'Y'\n",
       "      (300a, 00bc) Number of Leaf/Jaw Pairs            IS: '1'\n",
       "      (300a, 011c) Leaf/Jaw Positions                  DS: [-50, 50]\n",
       "      ---------\n",
       "   (300a, 00f0) Number of Blocks                    IS: '0'\n",
       "   (300a, 011e) Gantry Angle                        DS: '0.0'\n",
       "   (300a, 0120) Beam Limiting Device Angle          DS: '0.10000000000002'\n",
       "   (300a, 0122) Patient Support Angle               DS: '0.0'\n",
       "   (300a, 0128) Table Top Vertical Position         DS: '0.0'\n",
       "   (300a, 0129) Table Top Longitudinal Position     DS: '300.0'\n",
       "   (300a, 012a) Table Top Lateral Position          DS: '-1.0'\n",
       "   ---------\n",
       "(300a, 00b3) Primary Dosimeter Unit              CS: 'MU'\n",
       "(300a, 011e) Gantry Angle                        DS: '0.0'\n",
       "(300a, 0120) Beam Limiting Device Angle          DS: '0.10000000000002'\n",
       "(300a, 0122) Patient Support Angle               DS: '0.0'\n",
       "(300a, 0128) Table Top Vertical Position         DS: '0.0'\n",
       "(300a, 0129) Table Top Longitudinal Position     DS: '300.0'\n",
       "(300a, 012a) Table Top Lateral Position          DS: '-1.0'\n",
       "(300a, 012c) Isocenter Position                  DS: [1, 0, -300]\n",
       "(300c, 0002)  Referenced RT Plan Sequence  1 item(s) ---- \n",
       "   (0008, 1150) Referenced SOP Class UID            UI: RT Plan Storage\n",
       "   (0008, 1155) Referenced SOP Instance UID         UI: 1.2.246.352.71.5.855512968882.58330.20230731105719\n",
       "   ---------\n",
       "(300c, 0006) Referenced Beam Number              IS: '2'\n",
       "(300c, 0022) Referenced Fraction Group Number    IS: '1'\n",
       "(3273, 0010) Private Creator                     LO: 'Varian Medical Systems VISION 3273'\n",
       "(3273, 1000) Private tag data                    UN: b'1\\\\0\\\\-300'\n",
       "(3273, 1001) Private tag data                    UN: b'HFS '\n",
       "(7fe0, 0010) Pixel Data                          OW: Array of 1572864 elements"
      ]
     },
     "execution_count": 5,
     "metadata": {},
     "output_type": "execute_result"
    }
   ],
   "source": [
    "ds"
   ]
  },
  {
   "cell_type": "code",
   "execution_count": 10,
   "id": "2668703f-6e0d-45d3-9e4a-1a3ec9044a8e",
   "metadata": {},
   "outputs": [
    {
     "data": {
      "text/plain": [
       "100"
      ]
     },
     "execution_count": 10,
     "metadata": {},
     "output_type": "execute_result"
    }
   ],
   "source": [
    "int(ds.ExposureSequence[0].MetersetExposure)"
   ]
  },
  {
   "cell_type": "code",
   "execution_count": 15,
   "id": "8118e74b-99b2-46da-b6e3-9d45a892a367",
   "metadata": {},
   "outputs": [
    {
     "name": "stdout",
     "output_type": "stream",
     "text": [
      "Field Analysis Results\n",
      "----------------------\n",
      "File: RI_test.dcm\n",
      "Protocol: VARIAN\n",
      "Centering method: Beam center\n",
      "Normalization method: Beam center\n",
      "Interpolation: Linear\n",
      "Edge detection method: Inflection Derivative\n",
      "\n",
      "Penumbra width (20/80):\n",
      "Left: 2.1mm\n",
      "Right: 2.1mm\n",
      "Top: 2.9mm\n",
      "Bottom: 2.8mm\n",
      "\n",
      "Field Size:\n",
      "Horizontal: 99.8mm\n",
      "Vertical: 99.4mm\n",
      "\n",
      "CAX to edge distances:\n",
      "CAX -> Top edge: 47.9mm\n",
      "CAX -> Bottom edge: 51.5mm\n",
      "CAX -> Left edge: 50.1mm\n",
      "CAX -> Right edge: 49.8mm\n",
      "\n",
      "Central ROI stats:\n",
      "Mean: 101.59309475140992\n",
      "Max: 103.13362810800001\n",
      "Min: 99.845445042\n",
      "Standard deviation: 0.6001688309380391\n",
      "\n",
      "Top slope: 0.056%/mm\n",
      "Bottom slope: 0.007%/mm\n",
      "Left slope: 0.010%/mm\n",
      "Right slope: -0.031%/mm\n",
      "\n",
      "Protocol data:\n",
      "--------------\n",
      "Vertical symmetry: -3.028%\n",
      "Horizontal symmetry: 0.831%\n",
      "\n",
      "Vertical flatness: 2.141%\n",
      "Horizontal flatness: 1.136%\n",
      "\n"
     ]
    }
   ],
   "source": [
    "my_img = FieldAnalysis(file)\n",
    "my_img.analyze(vert_width = 0.1, horiz_width = 0.1)\n",
    "\n",
    "print(my_img.results())"
   ]
  }
 ],
 "metadata": {
  "kernelspec": {
   "display_name": "Python 3 (ipykernel)",
   "language": "python",
   "name": "python3"
  },
  "language_info": {
   "codemirror_mode": {
    "name": "ipython",
    "version": 3
   },
   "file_extension": ".py",
   "mimetype": "text/x-python",
   "name": "python",
   "nbconvert_exporter": "python",
   "pygments_lexer": "ipython3",
   "version": "3.10.12"
  }
 },
 "nbformat": 4,
 "nbformat_minor": 5
}
