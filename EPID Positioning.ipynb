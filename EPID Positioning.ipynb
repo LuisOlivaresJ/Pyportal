{
 "cells": [
  {
   "cell_type": "code",
   "execution_count": null,
   "id": "da06bc11",
   "metadata": {},
   "outputs": [],
   "source": [
    "from PyQt6.QtWidgets import QFileDialog\n",
    "last_file_name, _ = QFileDialog.getOpenFileName()\n",
    "print(last_file_name)"
   ]
  },
  {
   "cell_type": "code",
   "execution_count": 4,
   "id": "169150f6",
   "metadata": {},
   "outputs": [
    {
     "name": "stdout",
     "output_type": "stream",
     "text": [
      "C:\\GitHub\\Pyportal\n"
     ]
    }
   ],
   "source": [
    "from pylinac import FieldAnalysis, Centering\n",
    "import os\n",
    "\n",
    "#cwd = os.getcwd()\n",
    "cwp = os.path.abspath(os.getcwd())\n",
    "print(cwp)\n",
    "my_file = r\"C:/GitHub/Pyportal/Files/Positioning/13_07_2023/RI1.dcm\"\n",
    "#folder = \"/Files/Positioning/13_07_2023\"\n",
    "#folder = r\"\\Files\\Positioning\\13_07_2023\\\"\n",
    "#file  = \"RI.1dmc\"\n",
    "#file_path = os.path.join(cwp, folder, file)\n",
    "#print(cwp)\n"
   ]
  },
  {
   "cell_type": "code",
   "execution_count": 5,
   "id": "fd380ca3",
   "metadata": {},
   "outputs": [],
   "source": [
    "# from a file\n",
    "#my_file = r\"C:/my/QA/folder/img.dcm\"\n",
    "#my_file = r\"C:/Users/Luis/Documents/GitHub/Pyportal/Files/Positioning/13_07_2023/RI.1dcm\"\n",
    "my_img = FieldAnalysis(path = my_file)\n",
    "\n",
    "#Geometric center\n",
    "my_img.analyze(centering=Centering.GEOMETRIC_CENTER)"
   ]
  },
  {
   "cell_type": "markdown",
   "id": "d8cfb68c",
   "metadata": {},
   "source": [
    "It will always find the middle pixel and extract the profiles from there. This is helpful if you always want to be at the center of the image."
   ]
  },
  {
   "cell_type": "code",
   "execution_count": 7,
   "id": "26a5e1f6",
   "metadata": {},
   "outputs": [
    {
     "name": "stdout",
     "output_type": "stream",
     "text": [
      "Field Analysis Results\n",
      "----------------------\n",
      "File: C:/GitHub/Pyportal/Files/Positioning/13_07_2023/RI1.dcm\n",
      "Protocol: VARIAN\n",
      "Centering method: Geometric center\n",
      "Normalization method: Beam center\n",
      "Interpolation: Linear\n",
      "Edge detection method: Inflection Derivative\n",
      "\n",
      "Penumbra width (20/80):\n",
      "Left: 2.1mm\n",
      "Right: 2.2mm\n",
      "Top: 2.9mm\n",
      "Bottom: 2.7mm\n",
      "\n",
      "Field Size:\n",
      "Horizontal: 99.7mm\n",
      "Vertical: 99.3mm\n",
      "\n",
      "CAX to edge distances:\n",
      "CAX -> Top edge: 47.5mm\n",
      "CAX -> Bottom edge: 51.8mm\n",
      "CAX -> Left edge: 50.1mm\n",
      "CAX -> Right edge: 49.7mm\n",
      "\n",
      "Central ROI stats:\n",
      "Mean: -102.5\n",
      "Max: -86.0\n",
      "Min: -113.0\n",
      "Standard deviation: 10.5\n",
      "\n",
      "Top slope: 0.096%/mm\n",
      "Bottom slope: -0.054%/mm\n",
      "Left slope: 0.028%/mm\n",
      "Right slope: -0.108%/mm\n",
      "\n",
      "Protocol data:\n",
      "--------------\n",
      "Vertical symmetry: -1.855%\n",
      "Horizontal symmetry: 4.641%\n",
      "\n",
      "Vertical flatness: 2.089%\n",
      "Horizontal flatness: 2.919%\n",
      "\n"
     ]
    }
   ],
   "source": [
    "#Print results\n",
    "print(my_img.results())  # print results as a string\n"
   ]
  },
  {
   "cell_type": "code",
   "execution_count": 19,
   "id": "43c7396f",
   "metadata": {},
   "outputs": [
    {
     "name": "stdout",
     "output_type": "stream",
     "text": [
      "Field Analysis Results\n",
      "----------------------\n",
      "File: C:/GitHub/Pyportal/Files/Positioning/13_07_2023/RI1.dcm\n",
      "Protocol: VARIAN\n",
      "Centering method: Beam center\n",
      "Normalization method: Beam center\n",
      "Interpolation: Linear\n",
      "Edge detection method: Inflection Derivative\n",
      "\n",
      "Penumbra width (20/80):\n",
      "Left: 2.1mm\n",
      "Right: 2.2mm\n",
      "Top: 2.9mm\n",
      "Bottom: 2.6mm\n",
      "\n",
      "Field Size:\n",
      "Horizontal: 99.7mm\n",
      "Vertical: 99.3mm\n",
      "\n",
      "CAX to edge distances:\n",
      "CAX -> Top edge: 47.5mm\n",
      "CAX -> Bottom edge: 51.8mm\n",
      "CAX -> Left edge: 50.1mm\n",
      "CAX -> Right edge: 49.7mm\n",
      "\n",
      "Central ROI stats:\n",
      "Mean: -95.0\n",
      "Max: -86.0\n",
      "Min: -104.0\n",
      "Standard deviation: 6.519202405202649\n",
      "\n",
      "Top slope: 0.084%/mm\n",
      "Bottom slope: -0.051%/mm\n",
      "Left slope: 0.041%/mm\n",
      "Right slope: -0.100%/mm\n",
      "\n",
      "Protocol data:\n",
      "--------------\n",
      "Vertical symmetry: -1.993%\n",
      "Horizontal symmetry: 3.425%\n",
      "\n",
      "Vertical flatness: 1.683%\n",
      "Horizontal flatness: 2.677%\n",
      "\n"
     ]
    }
   ],
   "source": [
    "my_img.analyze(centering=Centering.BEAM_CENTER)\n",
    "print(my_img.results())  # print results as a string\n"
   ]
  },
  {
   "cell_type": "code",
   "execution_count": 10,
   "id": "8b8f41a2",
   "metadata": {},
   "outputs": [
    {
     "data": {
      "text/plain": [
       "FieldResult(pylinac_version='3.12.1', date_of_analysis=datetime.datetime(2023, 7, 13, 18, 8, 46, 178852), protocol='VARIAN', protocol_results={'symmetry_horizontal': 4.641033126696348, 'symmetry_vertical': -1.8548216876541401, 'flatness_horizontal': 2.9188203106020776, 'flatness_vertical': 2.0887047487332686}, centering_method='Geometric center', normalization_method='Beam center', interpolation_method='Linear', edge_detection_method='Inflection Derivative', top_penumbra_mm=2.901377244857025, bottom_penumbra_mm=2.6663060568266754, left_penumbra_mm=2.114766872846594, right_penumbra_mm=2.1828441680079367, geometric_center_index_x_y=(511.5, 383.5), beam_center_index_x_y=(510.9897857498754, 388.98389239455327), field_size_vertical_mm=99.28548920624378, field_size_horizontal_mm=99.70198704534127, beam_center_to_top_mm=49.64274460312189, beam_center_to_bottom_mm=49.64274460312189, beam_center_to_left_mm=49.850993522670635, beam_center_to_right_mm=49.850993522670635, cax_to_top_mm=47.49305878445701, cax_to_bottom_mm=51.79243042178677, cax_to_left_mm=50.050997508719476, cax_to_right_mm=49.6509895366218, top_position_index_x_y=(491.0, 389.0000280109047), top_horizontal_distance_from_cax_mm=8.036, top_vertical_distance_from_cax_mm=2.156010980274648, top_horizontal_distance_from_beam_center_mm=-7.835996013951161, top_vertical_distance_from_beam_center_mm=0.006325161609767747, left_slope_percent_mm=0.028457741558972294, right_slope_percent_mm=-0.10802586511874784, top_slope_percent_mm=0.09628331673125547, bottom_slope_percent_mm=-0.054338816525460874, top_penumbra_percent_mm=0, bottom_penumbra_percent_mm=0, left_penumbra_percent_mm=0, right_penumbra_percent_mm=0, central_roi_mean=-102.5, central_roi_max=-86.0, central_roi_std=10.5, central_roi_min=-113.0)"
      ]
     },
     "execution_count": 10,
     "metadata": {},
     "output_type": "execute_result"
    }
   ],
   "source": [
    "#my_img.plot_analyzed_image()  # matplotlib image\n",
    "#my_img.publish_pdf(filename=\"flatsym.pdf\")  # create PDF and save to file\n",
    "my_img.results_data()  # dict of results\n",
    "\n",
    "#results = my_img.results_data()\n",
    "\n",
    "\n",
    "#results.cax_to_"
   ]
  },
  {
   "cell_type": "code",
   "execution_count": 15,
   "id": "64ad02d2",
   "metadata": {},
   "outputs": [
    {
     "data": {
      "text/plain": [
       "(511.5, 383.5)"
      ]
     },
     "execution_count": 15,
     "metadata": {},
     "output_type": "execute_result"
    }
   ],
   "source": [
    "results.geometric_center_index_x_y"
   ]
  },
  {
   "cell_type": "code",
   "execution_count": 16,
   "id": "599a24b2",
   "metadata": {},
   "outputs": [
    {
     "data": {
      "text/plain": [
       "(510.9897857498754, 388.98389239455327)"
      ]
     },
     "execution_count": 16,
     "metadata": {},
     "output_type": "execute_result"
    }
   ],
   "source": [
    "results.beam_center_index_x_y"
   ]
  },
  {
   "cell_type": "code",
   "execution_count": 20,
   "id": "a7c4a554",
   "metadata": {},
   "outputs": [
    {
     "data": {
      "text/plain": [
       "datetime.datetime(2023, 7, 13, 18, 8, 39, 799376)"
      ]
     },
     "execution_count": 20,
     "metadata": {},
     "output_type": "execute_result"
    }
   ],
   "source": [
    "results.date_of_analysis"
   ]
  },
  {
   "cell_type": "code",
   "execution_count": 21,
   "id": "d865aee5",
   "metadata": {},
   "outputs": [
    {
     "data": {
      "text/plain": [
       "47.49305878445701"
      ]
     },
     "execution_count": 21,
     "metadata": {},
     "output_type": "execute_result"
    }
   ],
   "source": [
    "results.cax_to_top_mm"
   ]
  },
  {
   "cell_type": "code",
   "execution_count": 23,
   "id": "4b53c052",
   "metadata": {},
   "outputs": [
    {
     "data": {
      "text/plain": [
       "51.79243042178677"
      ]
     },
     "execution_count": 23,
     "metadata": {},
     "output_type": "execute_result"
    }
   ],
   "source": [
    "results.cax_to_bottom_mm"
   ]
  },
  {
   "cell_type": "code",
   "execution_count": null,
   "id": "b655b031",
   "metadata": {},
   "outputs": [],
   "source": []
  },
  {
   "cell_type": "code",
   "execution_count": null,
   "id": "8f0d7701",
   "metadata": {},
   "outputs": [],
   "source": []
  },
  {
   "cell_type": "code",
   "execution_count": null,
   "id": "13b240bc",
   "metadata": {},
   "outputs": [],
   "source": []
  },
  {
   "cell_type": "code",
   "execution_count": null,
   "id": "a64d3c10",
   "metadata": {},
   "outputs": [],
   "source": []
  },
  {
   "cell_type": "code",
   "execution_count": null,
   "id": "0f622132",
   "metadata": {
    "collapsed": true
   },
   "outputs": [],
   "source": []
  },
  {
   "cell_type": "code",
   "execution_count": null,
   "id": "8e501dc6",
   "metadata": {},
   "outputs": [],
   "source": []
  },
  {
   "cell_type": "code",
   "execution_count": 25,
   "id": "95693797",
   "metadata": {},
   "outputs": [
    {
     "data": {
      "text/plain": [
       "50.050997508719476"
      ]
     },
     "execution_count": 25,
     "metadata": {},
     "output_type": "execute_result"
    }
   ],
   "source": [
    "results.cax_to_left_mm"
   ]
  },
  {
   "cell_type": "code",
   "execution_count": 26,
   "id": "a3cb336e",
   "metadata": {},
   "outputs": [
    {
     "data": {
      "text/plain": [
       "49.6509895366218"
      ]
     },
     "execution_count": 26,
     "metadata": {},
     "output_type": "execute_result"
    }
   ],
   "source": [
    "results.cax_to_right_mm"
   ]
  },
  {
   "cell_type": "code",
   "execution_count": null,
   "id": "327d7cc7",
   "metadata": {},
   "outputs": [],
   "source": []
  }
 ],
 "metadata": {
  "kernelspec": {
   "display_name": "Python 3 (ipykernel)",
   "language": "python",
   "name": "python3"
  },
  "language_info": {
   "codemirror_mode": {
    "name": "ipython",
    "version": 3
   },
   "file_extension": ".py",
   "mimetype": "text/x-python",
   "name": "python",
   "nbconvert_exporter": "python",
   "pygments_lexer": "ipython3",
   "version": "3.11.2"
  }
 },
 "nbformat": 4,
 "nbformat_minor": 5
}
