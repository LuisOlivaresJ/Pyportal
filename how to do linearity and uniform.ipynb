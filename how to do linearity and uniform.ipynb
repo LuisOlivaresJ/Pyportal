{
 "cells": [
  {
   "cell_type": "markdown",
   "id": "9051e807-e859-415a-ae06-4d56f43546c8",
   "metadata": {},
   "source": [
    "# Tests for Linearity Tab"
   ]
  },
  {
   "cell_type": "code",
   "execution_count": 2,
   "id": "31719dc2-5690-41c0-a427-07efd4430533",
   "metadata": {},
   "outputs": [],
   "source": [
    "import pydicom\n",
    "from pylinac import FieldAnalysis"
   ]
  },
  {
   "cell_type": "code",
   "execution_count": 3,
   "id": "24aefed8-083b-44c2-8afa-9e5921839173",
   "metadata": {},
   "outputs": [],
   "source": [
    "file = \"RI_test_linearity.dcm\"\n",
    "ds = pydicom.dcmread(file)"
   ]
  },
  {
   "cell_type": "code",
   "execution_count": 4,
   "id": "9baf00be-2376-4c61-aef1-ecc35be232a7",
   "metadata": {},
   "outputs": [
    {
     "data": {
      "text/plain": [
       "Dataset.file_meta -------------------------------\n",
       "(0002, 0000) File Meta Information Group Length  UL: 182\n",
       "(0002, 0001) File Meta Information Version       OB: b'\\x00\\x01'\n",
       "(0002, 0002) Media Storage SOP Class UID         UI: RT Image Storage\n",
       "(0002, 0003) Media Storage SOP Instance UID      UI: 1.2.246.352.81.3.163227933.43057.19624.180.101\n",
       "(0002, 0010) Transfer Syntax UID                 UI: Implicit VR Little Endian\n",
       "(0002, 0012) Implementation Class UID            UI: 1.2.246.352.70.2.1.160.3\n",
       "(0002, 0013) Implementation Version Name         SH: 'DCIE 16.1'\n",
       "-------------------------------------------------\n",
       "(0008, 0005) Specific Character Set              CS: 'ISO_IR 192'\n",
       "(0008, 0008) Image Type                          CS: ['ORIGINAL', 'PRIMARY', 'PORTAL', 'ACQUIRED_DOSE']\n",
       "(0008, 0012) Instance Creation Date              DA: '20230731'\n",
       "(0008, 0013) Instance Creation Time              TM: '124317'\n",
       "(0008, 0016) SOP Class UID                       UI: RT Image Storage\n",
       "(0008, 0018) SOP Instance UID                    UI: 1.2.246.352.81.3.163227933.43057.19624.180.101\n",
       "(0008, 0020) Study Date                          DA: '20230713'\n",
       "(0008, 0021) Series Date                         DA: '20230731'\n",
       "(0008, 0022) Acquisition Date                    DA: '20230731'\n",
       "(0008, 0023) Content Date                        DA: '20230731'\n",
       "(0008, 0030) Study Time                          TM: '123946.28'\n",
       "(0008, 0031) Series Time                         TM: '122503.99'\n",
       "(0008, 0032) Acquisition Time                    TM: '121424'\n",
       "(0008, 0033) Content Time                        TM: '121424'\n",
       "(0008, 0050) Accession Number                    SH: ''\n",
       "(0008, 0060) Modality                            CS: 'RTIMAGE'\n",
       "(0008, 0064) Conversion Type                     CS: 'DI'\n",
       "(0008, 0070) Manufacturer                        LO: 'Varian Medical Systems'\n",
       "(0008, 0080) Institution Name                    LO: 'Centro Estatal de Oncologia Ruben Cardoza'\n",
       "(0008, 0090) Referring Physician's Name          PN: ''\n",
       "(0008, 1010) Station Name                        SH: 'D-2300CD'\n",
       "(0008, 1030) Study Description                   LO: 'Estudio RadOnc ARIA'\n",
       "(0008, 1070) Operators' Name                     PN: 'DICOM Service'\n",
       "(0008, 1090) Manufacturer's Model Name           LO: 'On-Board Imager'\n",
       "(0010, 0010) Patient's Name                      PN: 'QC^Portal'\n",
       "(0010, 0020) Patient ID                          LO: '71323'\n",
       "(0010, 0030) Patient's Birth Date                DA: ''\n",
       "(0010, 0040) Patient's Sex                       CS: ''\n",
       "(0018, 1000) Device Serial Number                LO: '6357'\n",
       "(0018, 1020) Software Versions                   LO: '1.6.19.0'\n",
       "(0018, 5100) Patient Position                    CS: 'HFS'\n",
       "(0020, 000d) Study Instance UID                  UI: 1.2.246.352.71.1.855512968882.8319.20230713124010\n",
       "(0020, 000e) Series Instance UID                 UI: 1.2.246.352.61.2.5636869562495287232.7722877975877570723\n",
       "(0020, 0010) Study ID                            SH: 'TG307'\n",
       "(0020, 0011) Series Number                       IS: '0'\n",
       "(0020, 0013) Instance Number                     IS: None\n",
       "(0020, 0020) Patient Orientation                 CS: ''\n",
       "(0020, 0052) Frame of Reference UID              UI: 1.2.246.352.61.8.5392954505927999436.10368520625812145855\n",
       "(0020, 1040) Position Reference Indicator        LO: ''\n",
       "(0028, 0002) Samples per Pixel                   US: 1\n",
       "(0028, 0004) Photometric Interpretation          CS: 'MONOCHROME2'\n",
       "(0028, 0010) Rows                                US: 768\n",
       "(0028, 0011) Columns                             US: 1024\n",
       "(0028, 0100) Bits Allocated                      US: 16\n",
       "(0028, 0101) Bits Stored                         US: 16\n",
       "(0028, 0102) High Bit                            US: 15\n",
       "(0028, 0103) Pixel Representation                US: 0\n",
       "(0028, 1050) Window Center                       DS: '51.940825398'\n",
       "(0028, 1051) Window Width                        DS: '103.819315572'\n",
       "(0028, 1052) Rescale Intercept                   DS: '255.325077504'\n",
       "(0028, 1053) Rescale Slope                       DS: '-0.015583806'\n",
       "(0028, 1054) Rescale Type                        LO: 'CU'\n",
       "(3002, 0002) RT Image Label                      SH: 'F 100UM-2_1_8'\n",
       "(3002, 0004) RT Image Description                ST: '6 MV, 600 MU/min \\r\\nScan Mode IDU20-Full-LoX-Integrated \\r\\nAveraged Frames 98 \\r\\nFrame Statistics 1, 98, 98, 0, 0, 0, 0, 0, 0, 0 \\r\\nDark Field Correction on\\r\\nFlood Field Correction on\\r\\nStatic Pixel Defects Correction on\\r\\nRandom Pixel Defects Correction off\\r\\n'\n",
       "(3002, 000a) Reported Values Origin              CS: 'ACTUAL'\n",
       "(3002, 000c) RT Image Plane                      CS: 'NORMAL'\n",
       "(3002, 000d) X-Ray Image Receptor Translation    DS: [-0.4026641170928, 1.75861501293805, 0]\n",
       "(3002, 000e) X-Ray Image Receptor Angle          DS: '0.0'\n",
       "(3002, 0010) RT Image Orientation                DS: [1, 0, 0, 0, -1, 0]\n",
       "(3002, 0011) Image Plane Pixel Spacing           DS: [0.392, 0.392]\n",
       "(3002, 0012) RT Image Position                   DS: [-200.508, 150.332]\n",
       "(3002, 0020) Radiation Machine Name              SH: 'D-2300CD'\n",
       "(3002, 0022) Radiation Machine SAD               DS: '1000.0'\n",
       "(3002, 0026) RT Image SID                        DS: '1000.0'\n",
       "(3002, 0029) Fraction Number                     IS: '1'\n",
       "(3002, 0030)  Exposure Sequence  1 item(s) ---- \n",
       "   (0008, 1160) Referenced Frame Number             IS: '1'\n",
       "   (0018, 0060) KVP                                 DS: '6000.0'\n",
       "   (3002, 0032) Meterset Exposure                   DS: '100.06'\n",
       "   (300a, 00b6)  Beam Limiting Device Sequence  2 item(s) ---- \n",
       "      (300a, 00b8) RT Beam Limiting Device Type        CS: 'X'\n",
       "      (300a, 00bc) Number of Leaf/Jaw Pairs            IS: '1'\n",
       "      (300a, 011c) Leaf/Jaw Positions                  DS: [-50, 50]\n",
       "      ---------\n",
       "      (300a, 00b8) RT Beam Limiting Device Type        CS: 'Y'\n",
       "      (300a, 00bc) Number of Leaf/Jaw Pairs            IS: '1'\n",
       "      (300a, 011c) Leaf/Jaw Positions                  DS: [-50, 50]\n",
       "      ---------\n",
       "   (300a, 00f0) Number of Blocks                    IS: '0'\n",
       "   (300a, 011e) Gantry Angle                        DS: '0.0'\n",
       "   (300a, 0120) Beam Limiting Device Angle          DS: '0.10000000000002'\n",
       "   (300a, 0122) Patient Support Angle               DS: '0.0'\n",
       "   (300a, 0128) Table Top Vertical Position         DS: '0.0'\n",
       "   (300a, 0129) Table Top Longitudinal Position     DS: '300.0'\n",
       "   (300a, 012a) Table Top Lateral Position          DS: '-1.0'\n",
       "   ---------\n",
       "(300a, 00b3) Primary Dosimeter Unit              CS: 'MU'\n",
       "(300a, 011e) Gantry Angle                        DS: '0.0'\n",
       "(300a, 0120) Beam Limiting Device Angle          DS: '0.10000000000002'\n",
       "(300a, 0122) Patient Support Angle               DS: '0.0'\n",
       "(300a, 0128) Table Top Vertical Position         DS: '0.0'\n",
       "(300a, 0129) Table Top Longitudinal Position     DS: '300.0'\n",
       "(300a, 012a) Table Top Lateral Position          DS: '-1.0'\n",
       "(300a, 012c) Isocenter Position                  DS: [1, 0, -300]\n",
       "(300c, 0002)  Referenced RT Plan Sequence  1 item(s) ---- \n",
       "   (0008, 1150) Referenced SOP Class UID            UI: RT Plan Storage\n",
       "   (0008, 1155) Referenced SOP Instance UID         UI: 1.2.246.352.71.5.855512968882.58330.20230731105719\n",
       "   ---------\n",
       "(300c, 0006) Referenced Beam Number              IS: '2'\n",
       "(300c, 0022) Referenced Fraction Group Number    IS: '1'\n",
       "(3273, 0010) Private Creator                     LO: 'Varian Medical Systems VISION 3273'\n",
       "(3273, 1000) Private tag data                    UN: b'1\\\\0\\\\-300'\n",
       "(3273, 1001) Private tag data                    UN: b'HFS '\n",
       "(7fe0, 0010) Pixel Data                          OW: Array of 1572864 elements"
      ]
     },
     "execution_count": 4,
     "metadata": {},
     "output_type": "execute_result"
    }
   ],
   "source": [
    "ds"
   ]
  },
  {
   "cell_type": "code",
   "execution_count": 5,
   "id": "2668703f-6e0d-45d3-9e4a-1a3ec9044a8e",
   "metadata": {},
   "outputs": [
    {
     "data": {
      "text/plain": [
       "100"
      ]
     },
     "execution_count": 5,
     "metadata": {},
     "output_type": "execute_result"
    }
   ],
   "source": [
    "int(ds.ExposureSequence[0].MetersetExposure)"
   ]
  },
  {
   "cell_type": "code",
   "execution_count": 6,
   "id": "8118e74b-99b2-46da-b6e3-9d45a892a367",
   "metadata": {},
   "outputs": [
    {
     "name": "stdout",
     "output_type": "stream",
     "text": [
      "Field Analysis Results\n",
      "----------------------\n",
      "File: RI_test_linearity.dcm\n",
      "Protocol: VARIAN\n",
      "Centering method: Beam center\n",
      "Normalization method: Beam center\n",
      "Interpolation: Linear\n",
      "Edge detection method: Inflection Derivative\n",
      "\n",
      "Penumbra width (20/80):\n",
      "Left: 2.1mm\n",
      "Right: 2.1mm\n",
      "Top: 2.9mm\n",
      "Bottom: 2.8mm\n",
      "\n",
      "Field Size:\n",
      "Horizontal: 99.8mm\n",
      "Vertical: 99.4mm\n",
      "\n",
      "CAX to edge distances:\n",
      "CAX -> Top edge: 47.9mm\n",
      "CAX -> Bottom edge: 51.5mm\n",
      "CAX -> Left edge: 50.1mm\n",
      "CAX -> Right edge: 49.8mm\n",
      "\n",
      "Central ROI stats:\n",
      "Mean: 101.59309475140992\n",
      "Max: 103.13362810800001\n",
      "Min: 99.845445042\n",
      "Standard deviation: 0.6001688309380391\n",
      "\n",
      "Top slope: 0.056%/mm\n",
      "Bottom slope: 0.007%/mm\n",
      "Left slope: 0.010%/mm\n",
      "Right slope: -0.031%/mm\n",
      "\n",
      "Protocol data:\n",
      "--------------\n",
      "Vertical symmetry: -3.028%\n",
      "Horizontal symmetry: 0.831%\n",
      "\n",
      "Vertical flatness: 2.141%\n",
      "Horizontal flatness: 1.136%\n",
      "\n"
     ]
    }
   ],
   "source": [
    "my_img = FieldAnalysis(file)\n",
    "my_img.analyze(vert_width = 0.1, horiz_width = 0.1)\n",
    "\n",
    "print(my_img.results())"
   ]
  },
  {
   "cell_type": "markdown",
   "id": "37d06a3d-a020-49f6-a4ce-0b54ad0b69f1",
   "metadata": {},
   "source": [
    "## Test for uniformity"
   ]
  },
  {
   "cell_type": "code",
   "execution_count": 8,
   "id": "9f80b3d9-8d1d-4702-b897-38086fc3ba53",
   "metadata": {},
   "outputs": [
    {
     "name": "stderr",
     "output_type": "stream",
     "text": [
      "C:\\Users\\alfon\\miniconda3\\envs\\pyside6\\lib\\site-packages\\pylinac\\core\\profile.py:1634: PeakPropertyWarning: some peaks have a width of 0\n",
      "  peak_idxs, peak_props = signal.find_peaks(\n"
     ]
    },
    {
     "ename": "ValueError",
     "evalue": "Inputs must not be empty.",
     "output_type": "error",
     "traceback": [
      "\u001b[1;31m-----------------------------------------------------------\u001b[0m",
      "\u001b[1;31mValueError\u001b[0m                Traceback (most recent call last)",
      "Cell \u001b[1;32mIn[8], line 5\u001b[0m\n\u001b[0;32m      2\u001b[0m file \u001b[38;5;241m=\u001b[39m \u001b[38;5;124m\"\u001b[39m\u001b[38;5;124mRI_test_uniformity.dcm\u001b[39m\u001b[38;5;124m\"\u001b[39m\n\u001b[0;32m      4\u001b[0m my_img \u001b[38;5;241m=\u001b[39m FieldAnalysis(file)\n\u001b[1;32m----> 5\u001b[0m \u001b[43mmy_img\u001b[49m\u001b[38;5;241;43m.\u001b[39;49m\u001b[43manalyze\u001b[49m\u001b[43m(\u001b[49m\u001b[43mvert_width\u001b[49m\u001b[43m \u001b[49m\u001b[38;5;241;43m=\u001b[39;49m\u001b[43m \u001b[49m\u001b[38;5;241;43m0.1\u001b[39;49m\u001b[43m,\u001b[49m\u001b[43m \u001b[49m\u001b[43mhoriz_width\u001b[49m\u001b[43m \u001b[49m\u001b[38;5;241;43m=\u001b[39;49m\u001b[43m \u001b[49m\u001b[38;5;241;43m0.1\u001b[39;49m\u001b[43m)\u001b[49m\n\u001b[0;32m      7\u001b[0m \u001b[38;5;28mprint\u001b[39m(my_img\u001b[38;5;241m.\u001b[39mresults())\n",
      "File \u001b[1;32m~\\miniconda3\\envs\\pyside6\\lib\\site-packages\\pylinac\\field_analysis.py:584\u001b[0m, in \u001b[0;36mFieldAnalysis.analyze\u001b[1;34m(self, protocol, centering, vert_position, horiz_position, vert_width, horiz_width, in_field_ratio, slope_exclusion_ratio, invert, is_FFF, penumbra, interpolation, interpolation_resolution_mm, ground, normalization_method, edge_detection_method, edge_smoothing_ratio, hill_window_ratio, **kwargs)\u001b[0m\n\u001b[0;32m    581\u001b[0m normalization_method \u001b[38;5;241m=\u001b[39m convert_to_enum(normalization_method, Normalization)\n\u001b[0;32m    582\u001b[0m centering \u001b[38;5;241m=\u001b[39m convert_to_enum(centering, Centering)\n\u001b[1;32m--> 584\u001b[0m \u001b[38;5;28;43mself\u001b[39;49m\u001b[38;5;241;43m.\u001b[39;49m\u001b[43m_analyze\u001b[49m\u001b[43m(\u001b[49m\n\u001b[0;32m    585\u001b[0m \u001b[43m    \u001b[49m\u001b[43medge_detection_method\u001b[49m\u001b[43m,\u001b[49m\n\u001b[0;32m    586\u001b[0m \u001b[43m    \u001b[49m\u001b[43medge_smoothing_ratio\u001b[49m\u001b[43m,\u001b[49m\n\u001b[0;32m    587\u001b[0m \u001b[43m    \u001b[49m\u001b[43mground\u001b[49m\u001b[43m,\u001b[49m\n\u001b[0;32m    588\u001b[0m \u001b[43m    \u001b[49m\u001b[43mhoriz_position\u001b[49m\u001b[43m,\u001b[49m\n\u001b[0;32m    589\u001b[0m \u001b[43m    \u001b[49m\u001b[43mhoriz_width\u001b[49m\u001b[43m,\u001b[49m\n\u001b[0;32m    590\u001b[0m \u001b[43m    \u001b[49m\u001b[43min_field_ratio\u001b[49m\u001b[43m,\u001b[49m\n\u001b[0;32m    591\u001b[0m \u001b[43m    \u001b[49m\u001b[43minterpolation\u001b[49m\u001b[43m,\u001b[49m\n\u001b[0;32m    592\u001b[0m \u001b[43m    \u001b[49m\u001b[43minterpolation_resolution_mm\u001b[49m\u001b[43m,\u001b[49m\n\u001b[0;32m    593\u001b[0m \u001b[43m    \u001b[49m\u001b[43mis_FFF\u001b[49m\u001b[43m,\u001b[49m\n\u001b[0;32m    594\u001b[0m \u001b[43m    \u001b[49m\u001b[43mkwargs\u001b[49m\u001b[43m,\u001b[49m\n\u001b[0;32m    595\u001b[0m \u001b[43m    \u001b[49m\u001b[43mnormalization_method\u001b[49m\u001b[43m,\u001b[49m\n\u001b[0;32m    596\u001b[0m \u001b[43m    \u001b[49m\u001b[43mpenumbra\u001b[49m\u001b[43m,\u001b[49m\n\u001b[0;32m    597\u001b[0m \u001b[43m    \u001b[49m\u001b[43mprotocol\u001b[49m\u001b[43m,\u001b[49m\n\u001b[0;32m    598\u001b[0m \u001b[43m    \u001b[49m\u001b[43mslope_exclusion_ratio\u001b[49m\u001b[43m,\u001b[49m\n\u001b[0;32m    599\u001b[0m \u001b[43m    \u001b[49m\u001b[43mvert_position\u001b[49m\u001b[43m,\u001b[49m\n\u001b[0;32m    600\u001b[0m \u001b[43m    \u001b[49m\u001b[43mvert_width\u001b[49m\u001b[43m,\u001b[49m\n\u001b[0;32m    601\u001b[0m \u001b[43m    \u001b[49m\u001b[43mcentering\u001b[49m\u001b[43m,\u001b[49m\n\u001b[0;32m    602\u001b[0m \u001b[43m    \u001b[49m\u001b[43mhill_window_ratio\u001b[49m\u001b[43m,\u001b[49m\n\u001b[0;32m    603\u001b[0m \u001b[43m\u001b[49m\u001b[43m)\u001b[49m\n",
      "File \u001b[1;32m~\\miniconda3\\envs\\pyside6\\lib\\site-packages\\pylinac\\field_analysis.py:699\u001b[0m, in \u001b[0;36mFieldAnalysis._analyze\u001b[1;34m(self, edge_detection_method, edge_smoothing_ratio, ground, horiz_position, horiz_width, in_field_ratio, interpolation, interpolation_resolution_mm, is_FFF, kwargs, normalization_method, penumbra, protocol, slope_exclusion_ratio, vert_position, vert_width, centering, hill_window_ratio)\u001b[0m\n\u001b[0;32m    691\u001b[0m \u001b[38;5;28mself\u001b[39m\u001b[38;5;241m.\u001b[39m_results[\u001b[38;5;124m\"\u001b[39m\u001b[38;5;124mgeometric_center_index_x_y\u001b[39m\u001b[38;5;124m\"\u001b[39m] \u001b[38;5;241m=\u001b[39m (\n\u001b[0;32m    692\u001b[0m     \u001b[38;5;28mself\u001b[39m\u001b[38;5;241m.\u001b[39mhoriz_profile\u001b[38;5;241m.\u001b[39mgeometric_center()[\u001b[38;5;124m\"\u001b[39m\u001b[38;5;124mindex (exact)\u001b[39m\u001b[38;5;124m\"\u001b[39m],\n\u001b[0;32m    693\u001b[0m     \u001b[38;5;28mself\u001b[39m\u001b[38;5;241m.\u001b[39mvert_profile\u001b[38;5;241m.\u001b[39mgeometric_center()[\u001b[38;5;124m\"\u001b[39m\u001b[38;5;124mindex (exact)\u001b[39m\u001b[38;5;124m\"\u001b[39m],\n\u001b[0;32m    694\u001b[0m )\n\u001b[0;32m    695\u001b[0m \u001b[38;5;28mself\u001b[39m\u001b[38;5;241m.\u001b[39m_results[\u001b[38;5;124m\"\u001b[39m\u001b[38;5;124mbeam_center_index_x_y\u001b[39m\u001b[38;5;124m\"\u001b[39m] \u001b[38;5;241m=\u001b[39m (\n\u001b[0;32m    696\u001b[0m     \u001b[38;5;28mself\u001b[39m\u001b[38;5;241m.\u001b[39mhoriz_profile\u001b[38;5;241m.\u001b[39mbeam_center()[\u001b[38;5;124m\"\u001b[39m\u001b[38;5;124mindex (exact)\u001b[39m\u001b[38;5;124m\"\u001b[39m],\n\u001b[0;32m    697\u001b[0m     \u001b[38;5;28mself\u001b[39m\u001b[38;5;241m.\u001b[39mvert_profile\u001b[38;5;241m.\u001b[39mbeam_center()[\u001b[38;5;124m\"\u001b[39m\u001b[38;5;124mindex (exact)\u001b[39m\u001b[38;5;124m\"\u001b[39m],\n\u001b[0;32m    698\u001b[0m )\n\u001b[1;32m--> 699\u001b[0m \u001b[38;5;28mself\u001b[39m\u001b[38;5;241m.\u001b[39m_results[\u001b[38;5;124m\"\u001b[39m\u001b[38;5;124mfield_size_vertical_mm\u001b[39m\u001b[38;5;124m\"\u001b[39m] \u001b[38;5;241m=\u001b[39m \u001b[38;5;28;43mself\u001b[39;49m\u001b[38;5;241;43m.\u001b[39;49m\u001b[43mvert_profile\u001b[49m\u001b[38;5;241;43m.\u001b[39;49m\u001b[43mfield_data\u001b[49m\u001b[43m(\u001b[49m\n\u001b[0;32m    700\u001b[0m \u001b[43m    \u001b[49m\u001b[43min_field_ratio\u001b[49m\u001b[38;5;241;43m=\u001b[39;49m\u001b[38;5;241;43m1.0\u001b[39;49m\u001b[43m,\u001b[49m\u001b[43m \u001b[49m\u001b[43mslope_exclusion_ratio\u001b[49m\u001b[38;5;241;43m=\u001b[39;49m\u001b[43mslope_exclusion_ratio\u001b[49m\n\u001b[0;32m    701\u001b[0m \u001b[43m\u001b[49m\u001b[43m)\u001b[49m[\u001b[38;5;124m\"\u001b[39m\u001b[38;5;124mwidth (exact) mm\u001b[39m\u001b[38;5;124m\"\u001b[39m]\n\u001b[0;32m    702\u001b[0m \u001b[38;5;28mself\u001b[39m\u001b[38;5;241m.\u001b[39m_results[\u001b[38;5;124m\"\u001b[39m\u001b[38;5;124mfield_size_horizontal_mm\u001b[39m\u001b[38;5;124m\"\u001b[39m] \u001b[38;5;241m=\u001b[39m \u001b[38;5;28mself\u001b[39m\u001b[38;5;241m.\u001b[39mhoriz_profile\u001b[38;5;241m.\u001b[39mfield_data(\n\u001b[0;32m    703\u001b[0m     in_field_ratio\u001b[38;5;241m=\u001b[39m\u001b[38;5;241m1.0\u001b[39m, slope_exclusion_ratio\u001b[38;5;241m=\u001b[39mslope_exclusion_ratio\n\u001b[0;32m    704\u001b[0m )[\u001b[38;5;124m\"\u001b[39m\u001b[38;5;124mwidth (exact) mm\u001b[39m\u001b[38;5;124m\"\u001b[39m]\n\u001b[0;32m    705\u001b[0m \u001b[38;5;28mself\u001b[39m\u001b[38;5;241m.\u001b[39m_results[\u001b[38;5;124m\"\u001b[39m\u001b[38;5;124mbeam_center_to_top_mm\u001b[39m\u001b[38;5;124m\"\u001b[39m] \u001b[38;5;241m=\u001b[39m \u001b[38;5;28mself\u001b[39m\u001b[38;5;241m.\u001b[39mvert_profile\u001b[38;5;241m.\u001b[39mfield_data(\n\u001b[0;32m    706\u001b[0m     in_field_ratio\u001b[38;5;241m=\u001b[39m\u001b[38;5;241m1.0\u001b[39m, slope_exclusion_ratio\u001b[38;5;241m=\u001b[39mslope_exclusion_ratio\n\u001b[0;32m    707\u001b[0m )[\u001b[38;5;124m\"\u001b[39m\u001b[38;5;124mleft distance->beam center (exact) mm\u001b[39m\u001b[38;5;124m\"\u001b[39m]\n",
      "File \u001b[1;32m~\\miniconda3\\envs\\pyside6\\lib\\site-packages\\argue\\argumentative.py:83\u001b[0m, in \u001b[0;36mbounds.<locals>.decorator.<locals>.wrapper\u001b[1;34m(*args, **kwargs)\u001b[0m\n\u001b[0;32m     80\u001b[0m         \u001b[38;5;28;01mif\u001b[39;00m start \u001b[38;5;241m>\u001b[39m value \u001b[38;5;129;01mor\u001b[39;00m value \u001b[38;5;241m>\u001b[39m stop:\n\u001b[0;32m     81\u001b[0m             \u001b[38;5;28;01mraise\u001b[39;00m error_type(message\u001b[38;5;241m.\u001b[39mformat(\n\u001b[0;32m     82\u001b[0m                 value, func\u001b[38;5;241m.\u001b[39m\u001b[38;5;18m__name__\u001b[39m, start, stop))\n\u001b[1;32m---> 83\u001b[0m \u001b[38;5;28;01mreturn\u001b[39;00m func(\u001b[38;5;241m*\u001b[39margs, \u001b[38;5;241m*\u001b[39m\u001b[38;5;241m*\u001b[39mkwargs)\n",
      "File \u001b[1;32m~\\miniconda3\\envs\\pyside6\\lib\\site-packages\\pylinac\\core\\profile.py:591\u001b[0m, in \u001b[0;36mSingleProfile.field_data\u001b[1;34m(self, in_field_ratio, slope_exclusion_ratio)\u001b[0m\n\u001b[0;32m    589\u001b[0m inner_right_idx \u001b[38;5;241m=\u001b[39m beam_center_idx \u001b[38;5;241m+\u001b[39m slope_exclusion_ratio \u001b[38;5;241m*\u001b[39m field_width \u001b[38;5;241m/\u001b[39m \u001b[38;5;241m2\u001b[39m\n\u001b[0;32m    590\u001b[0m inner_right_idx_r \u001b[38;5;241m=\u001b[39m \u001b[38;5;28mint\u001b[39m(\u001b[38;5;28mround\u001b[39m(inner_right_idx))\n\u001b[1;32m--> 591\u001b[0m left_fit \u001b[38;5;241m=\u001b[39m \u001b[43mlinregress\u001b[49m\u001b[43m(\u001b[49m\n\u001b[0;32m    592\u001b[0m \u001b[43m    \u001b[49m\u001b[38;5;28;43mrange\u001b[39;49m\u001b[43m(\u001b[49m\u001b[43mfield_left_idx_r\u001b[49m\u001b[43m,\u001b[49m\u001b[43m \u001b[49m\u001b[43minner_left_idx_r\u001b[49m\u001b[43m \u001b[49m\u001b[38;5;241;43m+\u001b[39;49m\u001b[43m \u001b[49m\u001b[38;5;241;43m1\u001b[39;49m\u001b[43m)\u001b[49m\u001b[43m,\u001b[49m\n\u001b[0;32m    593\u001b[0m \u001b[43m    \u001b[49m\u001b[38;5;28;43mself\u001b[39;49m\u001b[38;5;241;43m.\u001b[39;49m\u001b[43m_y_original_to_interp\u001b[49m\u001b[43m(\u001b[49m\n\u001b[0;32m    594\u001b[0m \u001b[43m        \u001b[49m\u001b[43mnp\u001b[49m\u001b[38;5;241;43m.\u001b[39;49m\u001b[43marange\u001b[49m\u001b[43m(\u001b[49m\u001b[43mfield_left_idx_r\u001b[49m\u001b[43m,\u001b[49m\u001b[43m \u001b[49m\u001b[43minner_left_idx_r\u001b[49m\u001b[43m \u001b[49m\u001b[38;5;241;43m+\u001b[39;49m\u001b[43m \u001b[49m\u001b[38;5;241;43m1\u001b[39;49m\u001b[43m)\u001b[49m\n\u001b[0;32m    595\u001b[0m \u001b[43m    \u001b[49m\u001b[43m)\u001b[49m\u001b[43m,\u001b[49m\n\u001b[0;32m    596\u001b[0m \u001b[43m\u001b[49m\u001b[43m)\u001b[49m\n\u001b[0;32m    597\u001b[0m right_fit \u001b[38;5;241m=\u001b[39m linregress(\n\u001b[0;32m    598\u001b[0m     \u001b[38;5;28mrange\u001b[39m(inner_right_idx_r, field_right_idx_r \u001b[38;5;241m+\u001b[39m \u001b[38;5;241m1\u001b[39m),\n\u001b[0;32m    599\u001b[0m     \u001b[38;5;28mself\u001b[39m\u001b[38;5;241m.\u001b[39m_y_original_to_interp(\n\u001b[0;32m    600\u001b[0m         np\u001b[38;5;241m.\u001b[39marange(inner_right_idx_r, field_right_idx_r \u001b[38;5;241m+\u001b[39m \u001b[38;5;241m1\u001b[39m)\n\u001b[0;32m    601\u001b[0m     ),\n\u001b[0;32m    602\u001b[0m )\n\u001b[0;32m    604\u001b[0m \u001b[38;5;66;03m# top calc\u001b[39;00m\n",
      "File \u001b[1;32m~\\miniconda3\\envs\\pyside6\\lib\\site-packages\\scipy\\stats\\_stats_mstats_common.py:154\u001b[0m, in \u001b[0;36mlinregress\u001b[1;34m(x, y, alternative)\u001b[0m\n\u001b[0;32m    151\u001b[0m     y \u001b[38;5;241m=\u001b[39m np\u001b[38;5;241m.\u001b[39masarray(y)\n\u001b[0;32m    153\u001b[0m \u001b[38;5;28;01mif\u001b[39;00m x\u001b[38;5;241m.\u001b[39msize \u001b[38;5;241m==\u001b[39m \u001b[38;5;241m0\u001b[39m \u001b[38;5;129;01mor\u001b[39;00m y\u001b[38;5;241m.\u001b[39msize \u001b[38;5;241m==\u001b[39m \u001b[38;5;241m0\u001b[39m:\n\u001b[1;32m--> 154\u001b[0m     \u001b[38;5;28;01mraise\u001b[39;00m \u001b[38;5;167;01mValueError\u001b[39;00m(\u001b[38;5;124m\"\u001b[39m\u001b[38;5;124mInputs must not be empty.\u001b[39m\u001b[38;5;124m\"\u001b[39m)\n\u001b[0;32m    156\u001b[0m \u001b[38;5;28;01mif\u001b[39;00m np\u001b[38;5;241m.\u001b[39mamax(x) \u001b[38;5;241m==\u001b[39m np\u001b[38;5;241m.\u001b[39mamin(x) \u001b[38;5;129;01mand\u001b[39;00m \u001b[38;5;28mlen\u001b[39m(x) \u001b[38;5;241m>\u001b[39m \u001b[38;5;241m1\u001b[39m:\n\u001b[0;32m    157\u001b[0m     \u001b[38;5;28;01mraise\u001b[39;00m \u001b[38;5;167;01mValueError\u001b[39;00m(\u001b[38;5;124m\"\u001b[39m\u001b[38;5;124mCannot calculate a linear regression \u001b[39m\u001b[38;5;124m\"\u001b[39m\n\u001b[0;32m    158\u001b[0m                      \u001b[38;5;124m\"\u001b[39m\u001b[38;5;124mif all x values are identical\u001b[39m\u001b[38;5;124m\"\u001b[39m)\n",
      "\u001b[1;31mValueError\u001b[0m: Inputs must not be empty."
     ]
    }
   ],
   "source": [
    "from pylinac import FieldAnalysis\n",
    "file = \"RI_test_uniformity.dcm\"\n",
    "\n",
    "my_img = FieldAnalysis(file)\n",
    "my_img.analyze(vert_width = 0.1, horiz_width = 0.1)\n",
    "print(my_img.results())"
   ]
  },
  {
   "cell_type": "code",
   "execution_count": 61,
   "id": "8a08e1d5-4ea9-47eb-a79e-8d3546fe528e",
   "metadata": {},
   "outputs": [],
   "source": [
    "from pylinac.core import image\n",
    "\n",
    "from skimage.draw import rectangle\n",
    "from skimage import measure\n",
    "\n",
    "class UniformityAnalysis:\n",
    "    def __init__(self, path):\n",
    "        self._path: str = path\n",
    "        self.image: image.ImageLike = image.load(path)\n",
    "        self._is_analyzed = False\n",
    "\n",
    "    def _get_vert_idx(\n",
    "        self, vert_position: float, vert_width: float\n",
    "        ) -> (float, float):\n",
    "        left_edge = int(\n",
    "        round(\n",
    "            self.image.array.shape[1] * vert_position\n",
    "            - self.image.array.shape[1] * vert_width / 2\n",
    "            )\n",
    "        )\n",
    "        left_edge = max(left_edge, 0)  # clip to 0\n",
    "        right_edge = int(\n",
    "            round(\n",
    "                self.image.array.shape[1] * vert_position\n",
    "                + self.image.array.shape[1] * vert_width / 2\n",
    "            )\n",
    "            + 1\n",
    "        )\n",
    "        right_edge = min(right_edge, self.image.array.shape[1])  # clip to image limit\n",
    "        return (\n",
    "            left_edge,\n",
    "            right_edge,\n",
    "        )\n",
    "\n",
    "    def _get_horiz_idx(\n",
    "        self, horiz_position: float, horiz_width: float\n",
    "        ) -> (float, float):\n",
    "        \n",
    "        bottom_edge = int(\n",
    "            round(\n",
    "                self.image.array.shape[0] * horiz_position\n",
    "                - self.image.array.shape[0] * horiz_width / 2\n",
    "            )\n",
    "        )\n",
    "        bottom_edge = max(bottom_edge, 0)\n",
    "        top_edge = int(\n",
    "            round(\n",
    "                self.image.array.shape[0] * horiz_position\n",
    "                + self.image.array.shape[0] * horiz_width / 2\n",
    "            )\n",
    "            + 1\n",
    "        )\n",
    "        top_edge = min(top_edge, self.image.array.shape[0])\n",
    "        return (\n",
    "            bottom_edge,\n",
    "            top_edge,\n",
    "        )\n",
    "    \n",
    "    def get_uniformity(\n",
    "        self, \n",
    "        horiz_position = 0.5,\n",
    "        horiz_width = 0.85,\n",
    "        vert_position = 0.5,\n",
    "        vert_width = 0.85):\n",
    "        \"\"\"Calculate the central ROI uniformity.\"\"\"\n",
    "        \n",
    "        left_v_idx, right_v_idx = self._get_vert_idx(vert_position, vert_width)\n",
    "        upper_h_idx, lower_h_idx = self._get_horiz_idx(horiz_position, horiz_width)\n",
    "        \n",
    "        width =  max(abs(left_v_idx - right_v_idx), 2)\n",
    "        height = max(abs(upper_h_idx - lower_h_idx), 2)\n",
    "\n",
    "        label_rectangle = np.zeros(self.image.shape, dtype = np.uint8)\n",
    "        start = (left_v_idx, upper_h_idx)\n",
    "        end = (left_v_idx + height, upper_h_idx + width)\n",
    "        rr, cc = rectangle(start, end = end, shape=label_rectangle.shape)\n",
    "        label_rectangle[rr, cc] = 1\n",
    "\n",
    "        def stdev(region, intensities):\n",
    "            # note the ddof arg to get the sample var if you so desire!\n",
    "            return np.std(intensities[region], ddof=1)\n",
    "\n",
    "        props = measure.regionprops(label_rectangle, intensity_image=self.image.array, extra_properties=[stdev])\n",
    "        print(props[0].intensity_mean)\n",
    "                \n",
    "        self.mean = props[0].intensity_mean\n",
    "        self.std = props[0].stdev\n",
    "        self.num_pixels = props[0].num_pixels\n",
    "\n",
    "        self.uniformity = self.std / self.mean * 100\n",
    "        self._is_analyzed = True\n",
    "        return self.uniformity\n",
    "\n",
    "    def results(self, as_str=True) -> str:\n",
    "        \"\"\"Get the results of the analysis.\n",
    "\n",
    "        Parameters\n",
    "        ----------\n",
    "        as_str\n",
    "            If True, return a simple string. If False, return a list of each line of text.\n",
    "        \"\"\"\n",
    "        if not self._is_analyzed:\n",
    "            raise NotAnalyzed(\"Image is not analyzed yet. Use get_uniformity() first.\")\n",
    "\n",
    "        results = [\n",
    "            \"Uniformity Analysis Results\",\n",
    "            \"---------------------------\",\n",
    "            f\"File: {self._path}\",\n",
    "        ]\n",
    "        results += [\n",
    "                \"Central ROI stats:\",\n",
    "                f\"Mean: {self.mean}\",\n",
    "                f\"Standard deviation: {self.std}\",\n",
    "                f\"Uniformity [%]: {self.uniformity}\",\n",
    "                f\"Num. pixels: {self.num_pixels}\",\n",
    "            ]\n",
    "        return results\n"
   ]
  },
  {
   "cell_type": "code",
   "execution_count": 62,
   "id": "77851619-8524-4c40-b8cf-d4679a36b939",
   "metadata": {},
   "outputs": [
    {
     "name": "stdout",
     "output_type": "stream",
     "text": [
      "119.44502008676693\n"
     ]
    },
    {
     "data": {
      "text/plain": [
       "['Uniformity Analysis Results',\n",
       " '---------------------------',\n",
       " 'File: RI_test_uniformity.dcm',\n",
       " 'Central ROI stats:',\n",
       " 'Mean: 119.44502008676693',\n",
       " 'Standard deviation: 1.7634332388628446',\n",
       " 'Uniformity [%]: 1.4763555965597026',\n",
       " 'Num. pixels: 570288']"
      ]
     },
     "execution_count": 62,
     "metadata": {},
     "output_type": "execute_result"
    }
   ],
   "source": [
    "file = \"RI_test_uniformity.dcm\"\n",
    "\n",
    "my_img = UniformityAnalysis(file)\n",
    "uniformity = my_img.get_uniformity(vert_width = 0.85, horiz_width = 0.85)\n",
    "my_img.results()\n",
    "#print(my_img.uniformity)"
   ]
  },
  {
   "cell_type": "code",
   "execution_count": 63,
   "id": "bdace78c-26f1-47d8-82cb-9d9e928a9abd",
   "metadata": {},
   "outputs": [
    {
     "name": "stdout",
     "output_type": "stream",
     "text": [
      "1.4763555965597026\n",
      "9\n"
     ]
    }
   ],
   "source": [
    "print(uniformity)\n",
    "print(props[0].num_pixels)"
   ]
  },
  {
   "cell_type": "code",
   "execution_count": 1,
   "id": "0f2bdcb0-2854-4e96-837b-d507f1d2fbdc",
   "metadata": {},
   "outputs": [],
   "source": [
    "import numpy as np\n",
    "from skimage.draw import rectangle"
   ]
  },
  {
   "cell_type": "code",
   "execution_count": 15,
   "id": "7ff1c8b0-920b-41fd-a3ba-8b9a544ceb28",
   "metadata": {},
   "outputs": [
    {
     "data": {
      "text/plain": [
       "array([[0, 0, 0, 0, 0],\n",
       "       [0, 1, 1, 1, 0],\n",
       "       [0, 1, 1, 1, 0],\n",
       "       [0, 1, 1, 1, 0],\n",
       "       [0, 0, 0, 0, 0]], dtype=uint8)"
      ]
     },
     "execution_count": 15,
     "metadata": {},
     "output_type": "execute_result"
    }
   ],
   "source": [
    "label = np.zeros((5,5), dtype = np.uint8)\n",
    "start = (1,1)\n",
    "end = (3,3)\n",
    "rr, cc = rectangle(start, end = end, shape=label.shape)\n",
    "label[rr, cc] = 1\n",
    "label"
   ]
  },
  {
   "cell_type": "code",
   "execution_count": 28,
   "id": "2c25c1a7-a485-491d-846d-29bf598f23b8",
   "metadata": {},
   "outputs": [
    {
     "name": "stdout",
     "output_type": "stream",
     "text": [
      "[[0 0 0 0 0]\n",
      " [0 2 2 2 0]\n",
      " [0 2 2 2 0]\n",
      " [0 2 2 2 0]\n",
      " [0 0 0 0 0]]\n"
     ]
    },
    {
     "data": {
      "text/plain": [
       "2.0"
      ]
     },
     "execution_count": 28,
     "metadata": {},
     "output_type": "execute_result"
    }
   ],
   "source": [
    "from skimage import measure\n",
    "img = label * 2\n",
    "print(img)\n",
    "\n",
    "def image_stdev(region, intensities):\n",
    "    # note the ddof arg to get the sample var if you so desire!\n",
    "    return np.std(intensities[region], ddof=1)\n",
    "\n",
    "props = measure.regionprops(label, intensity_image=img, extra_properties=[image_stdev])\n",
    "props[0].intensity_mean"
   ]
  },
  {
   "cell_type": "code",
   "execution_count": 29,
   "id": "15626ed5-2617-4896-92e3-69f4cb8d4eb4",
   "metadata": {},
   "outputs": [
    {
     "data": {
      "text/plain": [
       "0.0"
      ]
     },
     "execution_count": 29,
     "metadata": {},
     "output_type": "execute_result"
    }
   ],
   "source": [
    "props[0].image_stdev"
   ]
  },
  {
   "cell_type": "code",
   "execution_count": 30,
   "id": "01f4d60c-02a9-4106-9f6c-9ba6713f1160",
   "metadata": {},
   "outputs": [
    {
     "data": {
      "text/plain": [
       "9"
      ]
     },
     "execution_count": 30,
     "metadata": {},
     "output_type": "execute_result"
    }
   ],
   "source": [
    "props[0].num_pixels"
   ]
  },
  {
   "cell_type": "code",
   "execution_count": 31,
   "id": "5fac36d9-08c2-4827-b5f4-3a0eb8c32fc2",
   "metadata": {},
   "outputs": [
    {
     "data": {
      "text/plain": [
       "(2.0, 2.0)"
      ]
     },
     "execution_count": 31,
     "metadata": {},
     "output_type": "execute_result"
    }
   ],
   "source": [
    "props[0].centroid"
   ]
  }
 ],
 "metadata": {
  "kernelspec": {
   "display_name": "Python 3 (ipykernel)",
   "language": "python",
   "name": "python3"
  },
  "language_info": {
   "codemirror_mode": {
    "name": "ipython",
    "version": 3
   },
   "file_extension": ".py",
   "mimetype": "text/x-python",
   "name": "python",
   "nbconvert_exporter": "python",
   "pygments_lexer": "ipython3",
   "version": "3.10.12"
  }
 },
 "nbformat": 4,
 "nbformat_minor": 5
}
